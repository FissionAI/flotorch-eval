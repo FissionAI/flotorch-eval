{
  "cells": [
    {
      "cell_type": "raw",
      "metadata": {
        "vscode": {
          "languageId": "raw"
        }
      },
      "source": [
        "# Testing Agent-Eval Library Locally\n",
        "\n",
        "This notebook demonstrates how to use the agent-eval library locally before publishing to PyPI. We'll cover:\n",
        "\n",
        "1. Installing the library in development mode\n",
        "2. Importing and using the library\n",
        "3. Hot-reloading changes during development\n"
      ]
    },
    {
      "cell_type": "raw",
      "metadata": {
        "vscode": {
          "languageId": "raw"
        }
      },
      "source": [
        "# Method 1: Install in Development Mode\n",
        "\n",
        "The first method is to install the library in development mode using pip. Run this in a terminal:\n",
        "\n",
        "```bash\n",
        "# From the root directory of agent-eval\n",
        "pip install -e .\n",
        "```\n",
        "\n",
        "Or if you want to install with all development dependencies:\n",
        "```bash\n",
        "pip install -e \".[dev,examples]\"\n",
        "```\n",
        "\n",
        "After this, you can import the library normally in any notebook.\n"
      ]
    },
    {
      "cell_type": "raw",
      "metadata": {
        "vscode": {
          "languageId": "raw"
        }
      },
      "source": [
        "# Method 2: Add Library Path to Python Path\n",
        "\n",
        "If you don't want to install the package, you can add the library path to Python's path directly in your notebook:\n"
      ]
    },
    {
      "cell_type": "code",
      "execution_count": null,
      "metadata": {},
      "outputs": [],
      "source": [
        "import sys\n",
        "import os\n",
        "from pathlib import Path\n",
        "\n",
        "# Add the parent directory to Python path\n",
        "repo_root = Path.cwd().parent  # Adjust this if needed\n",
        "if str(repo_root) not in sys.path:\n",
        "    sys.path.insert(0, str(repo_root))\n",
        "\n",
        "# Now you can import the library\n",
        "from agent_eval import TraceConverter, Evaluator\n",
        "from agent_eval.metrics import ToolAccuracyMetric\n"
      ]
    },
    {
      "cell_type": "raw",
      "metadata": {
        "vscode": {
          "languageId": "raw"
        }
      },
      "source": [
        "# Method 3: Using IPython Extensions\n",
        "\n",
        "For more advanced development, you can use IPython's autoreload extension to automatically reload modules when they change:\n"
      ]
    },
    {
      "cell_type": "code",
      "execution_count": null,
      "metadata": {},
      "outputs": [],
      "source": [
        "%load_ext autoreload\n",
        "%autoreload 2\n",
        "\n",
        "# Now any changes to the source code will be automatically reloaded\n",
        "from agent_eval import TraceConverter, Evaluator\n",
        "from agent_eval.metrics import ToolAccuracyMetric\n"
      ]
    },
    {
      "cell_type": "raw",
      "metadata": {
        "vscode": {
          "languageId": "raw"
        }
      },
      "source": [
        "# Example Usage\n",
        "\n",
        "Let's create a simple example using the library:\n"
      ]
    },
    {
      "cell_type": "code",
      "execution_count": null,
      "metadata": {},
      "outputs": [],
      "source": [
        "from datetime import datetime, timezone\n",
        "from flotorch_eval.agent_eval.core.schemas import Trajectory, Message, ToolCall\n",
        "\n",
        "# Create a sample trajectory\n",
        "now = datetime.now(timezone.utc)\n",
        "\n",
        "tool_call = ToolCall(\n",
        "    name=\"test_tool\",\n",
        "    arguments={\"key\": \"value\"},\n",
        "    output={\"result\": \"success\"},\n",
        "    success=True,\n",
        "    error=None,\n",
        "    start_time=now,\n",
        "    end_time=now\n",
        ")\n",
        "\n",
        "message = Message(\n",
        "    role=\"assistant\",\n",
        "    content=\"Test message\",\n",
        "    timestamp=now,\n",
        "    tool_calls=[tool_call]\n",
        ")\n",
        "\n",
        "trajectory = Trajectory(\n",
        "    trace_id=\"test-trace-id\",\n",
        "    messages=[message]\n",
        ")\n",
        "\n",
        "# Set up evaluator\n",
        "evaluator = Evaluator([ToolAccuracyMetric()])\n",
        "\n",
        "# Evaluate trajectory\n",
        "results = evaluator.evaluate(trajectory)\n",
        "\n",
        "# Print results\n",
        "print(\"\\nEvaluation Results:\")\n",
        "print(\"-\" * 50)\n",
        "for score in results.scores:\n",
        "    print(f\"\\nMetric: {score.name}\")\n",
        "    print(f\"Score: {score.score:.2f}\")\n",
        "    if score.details:\n",
        "        print(\"Details:\")\n",
        "        for key, value in score.details.items():\n",
        "            print(f\"  {key}: {value}\")\n"
      ]
    },
    {
      "cell_type": "raw",
      "metadata": {
        "vscode": {
          "languageId": "raw"
        }
      },
      "source": [
        "# Development Tips\n",
        "\n",
        "1. **Hot Reloading**: With `%autoreload 2`, you can edit the library's source code and see changes immediately in the notebook without restarting the kernel.\n",
        "\n",
        "2. **Debugging**: You can use Python's debugger in notebooks:\n",
        "```python\n",
        "import pdb\n",
        "pdb.set_trace()  # Or use breakpoint() in Python 3.7+\n",
        "```\n",
        "\n",
        "3. **Import Issues**: If you get import errors:\n",
        "   - Check that your Python path includes the library directory\n",
        "   - Make sure all dependencies are installed\n",
        "   - Try restarting the kernel if changes aren't reflecting\n",
        "\n",
        "4. **Testing Changes**: After making changes to the library:\n",
        "   - Run the test suite: `make test`\n",
        "   - Check code formatting: `make format`\n",
        "   - Run linters: `make lint`\n",
        "\n",
        "5. **Dependencies**: If you add new dependencies:\n",
        "   - Add them to `requirements.txt`\n",
        "   - Update `setup.py` extras if needed\n",
        "   - Reinstall the package in development mode\n"
      ]
    }
  ],
  "metadata": {
    "language_info": {
      "name": "python"
    }
  },
  "nbformat": 4,
  "nbformat_minor": 2
}
